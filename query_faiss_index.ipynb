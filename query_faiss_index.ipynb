{
 "cells": [
  {
   "cell_type": "code",
   "execution_count": null,
   "metadata": {},
   "outputs": [],
   "source": [
    "import numpy as np\n",
    "import pickle\n",
    "from pathlib import Path\n",
    "from openai import AzureOpenAI\n",
    "from faiss_index import *"
   ]
  },
  {
   "cell_type": "code",
   "execution_count": null,
   "metadata": {},
   "outputs": [],
   "source": [
    "def query(q, index, path):\n",
    "    client = AzureOpenAI(\n",
    "        azure_deployment = \"ada_embedding\"\n",
    "        api_version = \"2023-05-15\"\n",
    "        azure_endpoint = os.environ[\"OPENAI_MODEL_ENDPOINT\"]\n",
    "        api_key = os.environ[\"OPENAI_API_KEY\"]\n",
    "    )\n",
    "    response = client.embeddings.create(\n",
    "            model = MODEL_DEPLOYMENT_NAME,\n",
    "            input = q\n",
    "    )\n",
    "    q_embedding = np.array([response.data[0].embedding])\n",
    "    results = index.search(q_embedding, 3)\n",
    "    docs = results[1][0]\n",
    "    scores = results[0][0]\n",
    "    with open(str(Path(path) / \"index.pkl\"), 'rb') as f:\n",
    "        docstore, index_to_docstore_id = pickle.load(f)\n",
    "    for i in range(len(docs)):\n",
    "        d = docstore.search(index_to_docstore_id.get(docs[i]))\n",
    "        print(f\"Source: {d.metadata.get('source')}\")\n",
    "        print(f\"{d.metadata.get('title')}\")\n",
    "        print(f\"Content: {d.page_content}\")\n",
    "        print(f\"Score: {scores[i]}\")\n",
    "        print(\"=\" * 50)"
   ]
  },
  {
   "cell_type": "code",
   "execution_count": null,
   "metadata": {},
   "outputs": [],
   "source": [
    "index = create_indexIVF(f\"C:/Users/DAXIAO/OneDrive - HC-SC PHAC-ASPC/Documents/10k_sample/subset_1\", \"faiss_index_IVF\", True)"
   ]
  },
  {
   "cell_type": "code",
   "execution_count": null,
   "metadata": {},
   "outputs": [],
   "source": [
    "index = faiss.read_index(\"faiss_index_IVF/index.faiss\")"
   ]
  },
  {
   "cell_type": "code",
   "execution_count": null,
   "metadata": {},
   "outputs": [],
   "source": [
    "q = \"Vietnamese language generation with LLMs\"\n",
    "query(q, index, \"faiss_index_IVF\")"
   ]
  }
 ],
 "metadata": {
  "kernelspec": {
   "display_name": "Python 3",
   "language": "python",
   "name": "python3"
  },
  "language_info": {
   "codemirror_mode": {
    "name": "ipython",
    "version": 3
   },
   "file_extension": ".py",
   "mimetype": "text/x-python",
   "name": "python",
   "nbconvert_exporter": "python",
   "pygments_lexer": "ipython3",
   "version": "3.10.4"
  },
  "orig_nbformat": 4
 },
 "nbformat": 4,
 "nbformat_minor": 2
}
