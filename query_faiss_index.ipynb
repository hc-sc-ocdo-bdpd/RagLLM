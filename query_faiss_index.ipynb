{
 "cells": [
  {
   "cell_type": "code",
   "execution_count": null,
   "metadata": {},
   "outputs": [],
   "source": [
    "import os\n",
    "from typing import List\n",
    "from langchain.text_splitter import RecursiveCharacterTextSplitter\n",
    "from langchain.embeddings import OpenAIEmbeddings\n",
    "from tqdm import tqdm\n",
    "import matplotlib.pyplot as plt \n",
    "import numpy as np \n",
    "import faiss\n",
    "import pickle\n",
    "from openai import AzureOpenAI\n",
    "\n",
    "import sys, os\n",
    "sys.path.append('.')\n",
    "from faiss_index import *"
   ]
  },
  {
   "cell_type": "code",
   "execution_count": null,
   "metadata": {},
   "outputs": [],
   "source": [
    "# if you need to clear (reset) the index:\n",
    "# store.clear()\n",
    "# and physically delete the faiss_index_store folder"
   ]
  },
  {
   "cell_type": "code",
   "execution_count": null,
   "metadata": {},
   "outputs": [],
   "source": [
    "index = create_index(f\"C:/Users/DAXIAO/OneDrive - HC-SC PHAC-ASPC/Documents/10k_sample/subset_0\", \"test\")"
   ]
  },
  {
   "cell_type": "code",
   "execution_count": null,
   "metadata": {},
   "outputs": [],
   "source": [
    "client = AzureOpenAI(\n",
    "    azure_deployment = MODEL_DEPLOYMENT_NAME, \n",
    "    api_version = MODEL_API_VERSION,\n",
    "    azure_endpoint = os.environ[\"OPENAI_MODEL_ENDPOINT\"],\n",
    "    # openai_api_type = \"azure\",\n",
    "    api_key = os.environ[\"OPENAI_API_KEY\"]\n",
    ")"
   ]
  },
  {
   "cell_type": "code",
   "execution_count": null,
   "metadata": {},
   "outputs": [],
   "source": [
    "response = client.embeddings.create(\n",
    "    model = MODEL_DEPLOYMENT_NAME, \n",
    "    input = \"Advances in molecular and cellular biology\"\n",
    ")\n",
    "query = np.array([np.array(response.data[0].embedding)])"
   ]
  },
  {
   "cell_type": "code",
   "execution_count": null,
   "metadata": {},
   "outputs": [],
   "source": [
    "index.search(query, k = 5)"
   ]
  }
 ],
 "metadata": {
  "kernelspec": {
   "display_name": "Python 3",
   "language": "python",
   "name": "python3"
  },
  "language_info": {
   "codemirror_mode": {
    "name": "ipython",
    "version": 3
   },
   "file_extension": ".py",
   "mimetype": "text/x-python",
   "name": "python",
   "nbconvert_exporter": "python",
   "pygments_lexer": "ipython3",
   "version": "3.10.4"
  },
  "orig_nbformat": 4
 },
 "nbformat": 4,
 "nbformat_minor": 2
}
