{
 "cells": [
  {
   "cell_type": "code",
   "execution_count": null,
   "metadata": {},
   "outputs": [],
   "source": [
    "import numpy as np \n",
    "import pickle\n",
    "from pathlib import Path\n",
    "from faiss_index import *"
   ]
  },
  {
   "cell_type": "code",
   "execution_count": null,
   "metadata": {},
   "outputs": [],
   "source": [
    "def query(q, index, path):\n",
    "    results = index.search(q, 3)\n",
    "    docs = results[1][0]\n",
    "    scores = results[0][0]\n",
    "    with open(str(Path(path) / \"index.pkl\"), 'rb') as f:\n",
    "        docstore, index_to_docstore_id = pickle.load(f)\n",
    "    for i in range(len(docs)):\n",
    "        d = docstore.search(index_to_docstore_id.get(docs[i]))\n",
    "        print(f\"Source: {d.metadata.get('source')}\")\n",
    "        print(f\"{d.metadata.get('title')}\")\n",
    "        print(f\"Content: {d.page_content}\")\n",
    "        print(f\"Score: {scores[i]}\")\n",
    "        print(\"=\" * 50)"
   ]
  },
  {
   "cell_type": "code",
   "execution_count": null,
   "metadata": {},
   "outputs": [],
   "source": [
    "index = create_indexPQ(f\"C:/Users/KPRAZUCH/OneDrive - HC-SC PHAC-ASPC/Documents/10k_sample/subset_1\", \"faiss_index_PQ\", True)"
   ]
  },
  {
   "cell_type": "code",
   "execution_count": null,
   "metadata": {},
   "outputs": [],
   "source": [
    "q = np.array([[random.random()] * DIMENSION])\n",
    "query(q, index, \"faiss_index_PQ\")"
   ]
  }
 ],
 "metadata": {
  "kernelspec": {
   "display_name": "Python 3",
   "language": "python",
   "name": "python3"
  },
  "language_info": {
   "codemirror_mode": {
    "name": "ipython",
    "version": 3
   },
   "file_extension": ".py",
   "mimetype": "text/x-python",
   "name": "python",
   "nbconvert_exporter": "python",
   "pygments_lexer": "ipython3",
   "version": "3.10.4"
  },
  "orig_nbformat": 4
 },
 "nbformat": 4,
 "nbformat_minor": 2
}
