{
 "cells": [
  {
   "cell_type": "code",
   "execution_count": null,
   "metadata": {},
   "outputs": [],
   "source": [
    "import os\n",
    "from typing import List\n",
    "from langchain.text_splitter import RecursiveCharacterTextSplitter\n",
    "\n",
    "from promptflow_vectordb.core.contracts import (\n",
    "    EmbeddingModelType,\n",
    "    StorageType,\n",
    "    StoreCoreConfig,\n",
    ")\n",
    "from promptflow_vectordb.core.embeddingstore_core import EmbeddingStoreCore\n",
    "import sys, os\n",
    "sys.path.append('.')\n",
    "from faiss_index import *"
   ]
  },
  {
   "cell_type": "code",
   "execution_count": null,
   "metadata": {},
   "outputs": [],
   "source": [
    "for root, dirs, _ in os.walk('C:/Users/KPRAZUCH/OneDrive - HC-SC PHAC-ASPC/Documents/10k_sample'):\n",
    "    for dir in dirs:\n",
    "        if dir == <SUBSET>:\n",
    "            print(f\"{root}/{dir}\")\n",
    "            store = create_index(f\"{root}/{dir}\", 'faiss_index_store_10k')"
   ]
  },
  {
   "cell_type": "code",
   "execution_count": null,
   "metadata": {},
   "outputs": [],
   "source": [
    "# if you need to clear (reset) the index:\n",
    "# store.clear()\n",
    "# and physically delete the faiss_index_store folder"
   ]
  },
  {
   "cell_type": "code",
   "execution_count": null,
   "metadata": {},
   "outputs": [],
   "source": [
    "for result in store.search_by_text(\"Impact of diabetes on COVID-19 mortality and hospital outcomes\", 3):\n",
    "    print(\"Source:\", result.metadata.get('source'))\n",
    "    print(\"Score:\", result.score)\n",
    "    print(\"Text:\", result.text)\n",
    "    print(\"================================\")"
   ]
  },
  {
   "cell_type": "code",
   "execution_count": null,
   "metadata": {},
   "outputs": [],
   "source": [
    "from openai import OpenAI\n",
    "\n",
    "def get_embedding_for_text(text):\n",
    "    client = OpenAI()\n",
    "    client.embeddings.create(\n",
    "    model=\"text-embedding-ada-002\",\n",
    "    input=text,\n",
    "    encoding_format=\"float\"\n",
    "    )\n",
    "\n",
    "query_embedding = get_embedding_for_text(\"net zero\")\n",
    "for result in store.search_by_embedding(query_embedding, 3):\n",
    "    print(\"Source:\", result.metadata.get('source'))\n",
    "    print(\"Score:\", result.score)\n",
    "    print(\"Text:\", result.text)\n",
    "    print(\"================================\")"
   ]
  }
 ],
 "metadata": {
  "kernelspec": {
   "display_name": "Python 3",
   "language": "python",
   "name": "python3"
  },
  "language_info": {
   "codemirror_mode": {
    "name": "ipython",
    "version": 3
   },
   "file_extension": ".py",
   "mimetype": "text/x-python",
   "name": "python",
   "nbconvert_exporter": "python",
   "pygments_lexer": "ipython3",
   "version": "3.10.4"
  },
  "orig_nbformat": 4
 },
 "nbformat": 4,
 "nbformat_minor": 2
}
