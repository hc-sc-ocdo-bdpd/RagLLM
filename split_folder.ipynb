{
 "cells": [
  {
   "cell_type": "code",
   "execution_count": 1,
   "metadata": {},
   "outputs": [],
   "source": [
    "import os, os.path, shutil\n",
    "\n",
    "def split_folder(folder_path, num_folders):\n",
    "    '''\n",
    "    Splits the contents of a folder into smaller subfolders.\n",
    "    Args:   folder_path (str): path to folder to be split\n",
    "            num_folders (int): number of subfolders to be created\n",
    "    '''\n",
    "    docs = [f for f in os.listdir(folder_path) if os.path.isfile(os.path.join(folder_path, f))]\n",
    "\n",
    "    for i in range(num_folders):\n",
    "        new_path = os.path.join(folder_path, f'subset_{i}')\n",
    "        if not os.path.exists(new_path):\n",
    "            os.makedirs(new_path)\n",
    "\n",
    "    for doc in docs:\n",
    "        index = docs.index(doc)\n",
    "        subset = int(index * num_folders / len(docs))\n",
    "        old_doc_path = os.path.join(folder_path, doc)\n",
    "        new_doc_path = os.path.join(os.path.join(folder_path, f\"subset_{subset}\"), doc)\n",
    "        shutil.move(old_doc_path, new_doc_path)"
   ]
  }
 ],
 "metadata": {
  "kernelspec": {
   "display_name": ".venv",
   "language": "python",
   "name": "python3"
  },
  "language_info": {
   "codemirror_mode": {
    "name": "ipython",
    "version": 3
   },
   "file_extension": ".py",
   "mimetype": "text/x-python",
   "name": "python",
   "nbconvert_exporter": "python",
   "pygments_lexer": "ipython3",
   "version": "3.10.4"
  },
  "orig_nbformat": 4
 },
 "nbformat": 4,
 "nbformat_minor": 2
}
