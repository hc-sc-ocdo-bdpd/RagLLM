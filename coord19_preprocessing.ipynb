{
 "cells": [
  {
   "cell_type": "code",
   "execution_count": null,
   "metadata": {},
   "outputs": [],
   "source": [
    "import os\n",
    "import json\n",
    "from tqdm import tqdm\n",
    "\n",
    "# CORD-19 Dataset: https://www.kaggle.com/datasets/allen-institute-for-ai/CORD-19-research-challenge\n",
    "\n",
    "# Step 1: Download dataset\n",
    "# Step 2: Extract contents from zip\n",
    "# Step 3: Structure JSON files into human-readable text\n",
    "# Step 4: FAISS index it\n",
    "# Step 5: RAG it"
   ]
  },
  {
   "cell_type": "code",
   "execution_count": null,
   "metadata": {},
   "outputs": [],
   "source": [
    "import zipfile\n",
    "import os\n",
    "import os.path as path\n",
    "\n",
    "def extract_zip_with_progress(zip_file_path):\n",
    "    # Extract the name of the zip file without extension\n",
    "    zip_file_name = path.splitext(path.basename(zip_file_path))[0]\n",
    "\n",
    "    # Define the extraction folder in the same location as the zip file\n",
    "    extract_to_folder = path.join(path.dirname(zip_file_path), zip_file_name)\n",
    "\n",
    "    # Create the directory if it doesn't exist\n",
    "    if not os.path.exists(extract_to_folder):\n",
    "        os.makedirs(extract_to_folder)\n",
    "\n",
    "    # Open the zip file\n",
    "    with zipfile.ZipFile(zip_file_path, 'r') as zip_ref:\n",
    "        # Get total number of items in the zip file\n",
    "        total_files = len(zip_ref.infolist())\n",
    "\n",
    "        # Extract each file and show progress\n",
    "        for i, file in enumerate(zip_ref.infolist(), 1):\n",
    "            # Extract file\n",
    "            zip_ref.extract(file, extract_to_folder)\n",
    "\n",
    "            # Print progress\n",
    "            print(f\"Extracting {file.filename} ({i}/{total_files})\")"
   ]
  },
  {
   "cell_type": "code",
   "execution_count": null,
   "metadata": {},
   "outputs": [],
   "source": [
    "extract_zip_with_progress('archive.zip')"
   ]
  },
  {
   "cell_type": "code",
   "execution_count": null,
   "metadata": {},
   "outputs": [],
   "source": [
    "def format_authors(authors):\n",
    "    \"\"\"Format the authors list.\"\"\"\n",
    "    formatted_authors = []\n",
    "    for author in authors:\n",
    "        name_parts = [author.get('first')] + author.get('middle', []) + [author.get('last')]\n",
    "        name = ' '.join(filter(None, name_parts))  # Filter out empty parts\n",
    "        if author.get('suffix'):\n",
    "            name += ', ' + author.get('suffix')\n",
    "        affiliation = author.get('affiliation', {}).get('name', '')\n",
    "        email = author.get('email', '')\n",
    "        author_info = [name, affiliation, email]\n",
    "        formatted_authors.append(', '.join(filter(None, author_info)))  # Only add non-empty parts\n",
    "    return '; '.join(formatted_authors)  # Use semicolon and space as separator\n"
   ]
  },
  {
   "cell_type": "code",
   "execution_count": null,
   "metadata": {},
   "outputs": [],
   "source": [
    "def insert_citations(text, cite_spans):\n",
    "    \"\"\"\n",
    "    Insert citations into the text at the appropriate positions.\n",
    "    \"\"\"\n",
    "    offset = 0\n",
    "    for cite in cite_spans:\n",
    "        start, end = cite['start'] + offset, cite['end'] + offset\n",
    "        cite_text = cite['text']\n",
    "        text = text[:start] + cite_text + text[end:]\n",
    "        offset += len(cite_text) - (end - start)\n",
    "    return text"
   ]
  },
  {
   "cell_type": "code",
   "execution_count": null,
   "metadata": {},
   "outputs": [],
   "source": [
    "def process_json_to_text(json_data):\n",
    "    \"\"\"Convert JSON data to a human-readable text format.\"\"\"\n",
    "    text_data = []\n",
    "\n",
    "    # Title\n",
    "    title = json_data['metadata'].get('title', 'No Title')\n",
    "    text_data.append(f\"Title: {title}\\n\")\n",
    "\n",
    "   # Authors\n",
    "    authors = json_data['metadata'].get('authors', [])\n",
    "    formatted_authors = format_authors(authors)\n",
    "    text_data.append(f\"Authors: {formatted_authors}\\n\")\n",
    "\n",
    "    # Abstract\n",
    "    text_data.append(\"Abstract:\\n\")\n",
    "    for paragraph in json_data['metadata'].get('abstract', []):\n",
    "        text = insert_citations(paragraph.get('text', ''), paragraph.get('cite_spans', []))\n",
    "        text_data.append(text + '\\n')\n",
    "\n",
    "    # Body Text\n",
    "    seen_sections = set()\n",
    "    for section in json_data.get('body_text', []):\n",
    "        section_title = section.get('section', 'No Section Title')\n",
    "        if section_title not in seen_sections:\n",
    "            text_data.append(f\"\\n{section_title}:\\n\")\n",
    "            seen_sections.add(section_title)\n",
    "        text = insert_citations(section.get('text', ''), section.get('cite_spans', []))\n",
    "        text_data.append(text + '\\n')\n",
    "\n",
    "    # Bibliography\n",
    "    text_data.append(\"\\nReferences:\\n\")\n",
    "    for key, bib_entry in json_data.get('bib_entries', {}).items():\n",
    "        ref_number = key.replace('BIBREF', '')\n",
    "        authors = format_authors(bib_entry.get('authors', []))\n",
    "        title = bib_entry.get('title', 'No Title')\n",
    "        year = bib_entry.get('year', '')\n",
    "        venue = bib_entry.get('venue', '')\n",
    "        text_data.append(f\"{ref_number}: {title}, {authors}, {venue}, {year}\\n\")\n",
    "\n",
    "    return ''.join(text_data)"
   ]
  },
  {
   "cell_type": "code",
   "execution_count": null,
   "metadata": {},
   "outputs": [],
   "source": [
    "def main():\n",
    "    json_dir = 'archive/document_parses/pdf_json'\n",
    "    output_dir = 'archive/document_parses/txt_extract'\n",
    "\n",
    "    if not os.path.exists(output_dir):\n",
    "        os.makedirs(output_dir)\n",
    "\n",
    "    json_files = [f for f in os.listdir(json_dir) if f.endswith('.json')]\n",
    "\n",
    "    for json_file in tqdm(json_files, desc=\"Converting JSON to Text\"):\n",
    "        output_file = os.path.join(output_dir, json_file.replace('.json', '.txt'))\n",
    "\n",
    "        # Skip if the text file already exists\n",
    "        if os.path.exists(output_file):\n",
    "            continue\n",
    "\n",
    "        with open(os.path.join(json_dir, json_file), 'r', encoding='utf-8') as file:\n",
    "            json_data = json.load(file)\n",
    "\n",
    "        text_data = process_json_to_text(json_data)\n",
    "\n",
    "        with open(output_file, 'w', encoding='utf-8') as file:\n",
    "            file.write(text_data)"
   ]
  },
  {
   "cell_type": "code",
   "execution_count": null,
   "metadata": {},
   "outputs": [],
   "source": [
    "main()"
   ]
  }
 ],
 "metadata": {
  "kernelspec": {
   "display_name": ".venv",
   "language": "python",
   "name": "python3"
  },
  "language_info": {
   "codemirror_mode": {
    "name": "ipython",
    "version": 3
   },
   "file_extension": ".py",
   "mimetype": "text/x-python",
   "name": "python",
   "nbconvert_exporter": "python",
   "pygments_lexer": "ipython3",
   "version": "3.10.4"
  }
 },
 "nbformat": 4,
 "nbformat_minor": 2
}
