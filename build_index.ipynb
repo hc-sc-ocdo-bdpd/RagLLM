{
 "cells": [
  {
   "cell_type": "code",
   "execution_count": null,
   "metadata": {},
   "outputs": [],
   "source": [
    "from index_PQ import IndexPQ\n",
    "from index_IVFFlat import IndexIVFFlat\n",
    "from index_FlatL2 import IndexFlatL2"
   ]
  },
  {
   "cell_type": "markdown",
   "source": [
    "#### PQ INDEX"
   ],
   "metadata": {
    "collapsed": false
   }
  },
  {
   "cell_type": "code",
   "execution_count": null,
   "metadata": {},
   "outputs": [],
   "source": [
    "pq = IndexPQ()\n",
    "pq.read(\"test_PQ\")\n",
    "pq.create(\"C:/Users/KPRAZUCH/OneDrive - HC-SC PHAC-ASPC/Documents/10k_sample/subset_1\", \"test_PQ\")"
   ]
  },
  {
   "cell_type": "markdown",
   "source": [
    "#### IVFFLAT INDEX"
   ],
   "metadata": {
    "collapsed": false
   }
  },
  {
   "cell_type": "code",
   "execution_count": null,
   "metadata": {},
   "outputs": [],
   "source": [
    "IVFFlat = IndexIVFFlat()\n",
    "IVFFlat.read(\"test_IVFFlat\")\n",
    "IVFFlat.create(\"C:/Users/KPRAZUCH/OneDrive - HC-SC PHAC-ASPC/Documents/10k_sample/subset_1\", \"test_IVFFlat\")"
   ]
  },
  {
   "cell_type": "markdown",
   "source": [
    "#### FLAT INDEX"
   ],
   "metadata": {
    "collapsed": false
   }
  },
  {
   "cell_type": "code",
   "execution_count": null,
   "metadata": {},
   "outputs": [],
   "source": [
    "FlatL2 = IndexFlatL2()\n",
    "FlatL2.read(\"test_FlatL2\")\n",
    "FlatL2.create(\"C:/Users/KPRAZUCH/OneDrive - HC-SC PHAC-ASPC/Documents/10k_sample/subset_1\", \"test_FlatL2\")"
   ]
  },
  {
   "cell_type": "code",
   "execution_count": null,
   "metadata": {},
   "outputs": [],
   "source": [
    "# for i in list(range(0, 20)):\n",
    "#     print(f\"Subset {i}\")\n",
    "#     FlatL2 = IndexFlatL2(f\"C:/Users/KPRAZUCH/OneDrive - HC-SC PHAC-ASPC/Documents/10k_sample/subset_{i}\",\n",
    "#                 \"faiss_index_FlatL2_New\")\n",
    "#     FlatL2.create()"
   ]
  },
  {
   "cell_type": "markdown",
   "source": [
    "#### QUERIES"
   ],
   "metadata": {
    "collapsed": false
   }
  },
  {
   "cell_type": "code",
   "execution_count": null,
   "metadata": {},
   "outputs": [],
   "source": [
    "q = [\"prebiotics, probiotics, and hyperimmune dried egg protein\",\n",
    "     \"Palestinian public universities strategic planning\",\n",
    "     \"cyberchondria COVID-19\",\n",
    "     \"COVID-19 and stroke patients\",\n",
    "     \"traumatic brain injury\"]\n",
    "\n",
    "for query in q:\n",
    "    print(\"QUERY:\", query)\n",
    "    print(\"FLAT INDEX\")\n",
    "    FlatL2.query(query, k = 5)\n",
    "    print(\"PQ INDEX\")\n",
    "    pq.query(query, k = 10)\n",
    "    print(\"IVFFLAT INDEX\")\n",
    "    IVFFlat.query(query, k = 10)    "
   ]
  }
 ],
 "metadata": {
  "kernelspec": {
   "display_name": ".venv",
   "language": "python",
   "name": "python3"
  },
  "language_info": {
   "codemirror_mode": {
    "name": "ipython",
    "version": 3
   },
   "file_extension": ".py",
   "mimetype": "text/x-python",
   "name": "python",
   "nbconvert_exporter": "python",
   "pygments_lexer": "ipython3",
   "version": "3.10.4"
  },
  "orig_nbformat": 4
 },
 "nbformat": 4,
 "nbformat_minor": 2
}
