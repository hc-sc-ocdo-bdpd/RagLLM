{
 "cells": [
  {
   "cell_type": "code",
   "execution_count": 15,
   "metadata": {},
   "outputs": [],
   "source": [
    "from index_PQ import IndexPQ\n",
    "from index_IVFFlat import IndexIVFFlat\n",
    "from index_FlatL2 import IndexFlatL2"
   ]
  },
  {
   "cell_type": "code",
   "execution_count": 16,
   "metadata": {},
   "outputs": [],
   "source": [
    "pq = IndexPQ(\"C:/Users/KPRAZUCH/OneDrive - HC-SC PHAC-ASPC/Documents/10k_sample/subset_1\",\n",
    "             \"faiss_index_PQ\")\n",
    "pq.read()"
   ]
  },
  {
   "cell_type": "code",
   "execution_count": 17,
   "metadata": {},
   "outputs": [],
   "source": [
    "IVFFlat = IndexIVFFlat(\"C:/Users/KPRAZUCH/OneDrive - HC-SC PHAC-ASPC/Documents/10k_sample/subset_19\",\n",
    "             \"faiss_index_IVFFlat\")\n",
    "IVFFlat.read()"
   ]
  },
  {
   "cell_type": "code",
   "execution_count": 18,
   "metadata": {},
   "outputs": [],
   "source": [
    "FlatL2 = IndexFlatL2(\"C:/Users/KPRAZUCH/OneDrive - HC-SC PHAC-ASPC/Documents/10k_sample/subset_19\",\n",
    "             \"faiss_index_FlatL2_New\")\n",
    "FlatL2.read()"
   ]
  },
  {
   "cell_type": "code",
   "execution_count": 19,
   "metadata": {},
   "outputs": [],
   "source": [
    "FlatL2_old = IndexFlatL2(\"C:/Users/KPRAZUCH/OneDrive - HC-SC PHAC-ASPC/Documents/10k_sample/subset_19\",\n",
    "             \"faiss_index_FlatL2\")\n",
    "FlatL2_old.read()"
   ]
  },
  {
   "cell_type": "code",
   "execution_count": 20,
   "metadata": {},
   "outputs": [],
   "source": [
    "# for i in list(range(9, 20)):\n",
    "#     print(f\"Subset {i}\")\n",
    "#     FlatL2 = IndexFlatL2(f\"C:/Users/KPRAZUCH/OneDrive - HC-SC PHAC-ASPC/Documents/10k_sample/subset_{i}\",\n",
    "#                 \"faiss_index_FlatL2_New\")\n",
    "#     FlatL2.create()"
   ]
  },
  {
   "cell_type": "code",
   "execution_count": 21,
   "metadata": {},
   "outputs": [],
   "source": [
    "# 2b2b1ce02feccccc3d52c627f5d4bde1d2951b5d.txt (S3)\n",
    "# 513736b134c3daa81d7562b89a91827bf9e7e748.txt (S6)\n",
    "# 840b83e6eceb852d282668e926ff035e00c94ea2.txt (S10)\n",
    "# b7d74ff6d2d2db1358cc50bee8189ea3c1c763ac.txt (S14)\n",
    "# fff5c637f1d200a7500e3e88d75d325a76ff3053.txt (S19)\n",
    "q = [\"prebiotics, probiotics, and hyperimmune dried egg protein\",\n",
    "     \"Palestinian public universities strategic planning\",\n",
    "     \"cyberchondria COVID-19\",\n",
    "     \"COVID-19 and stroke patients\",\n",
    "     \"traumatic brain injury\"]"
   ]
  },
  {
   "cell_type": "code",
   "execution_count": 22,
   "metadata": {},
   "outputs": [
    {
     "ename": "TypeError",
     "evalue": "FaissIndex.query() got an unexpected keyword argument 'k'",
     "output_type": "error",
     "traceback": [
      "\u001b[1;31m---------------------------------------------------------------------------\u001b[0m",
      "\u001b[1;31mTypeError\u001b[0m                                 Traceback (most recent call last)",
      "Cell \u001b[1;32mIn[22], line 2\u001b[0m\n\u001b[0;32m      1\u001b[0m \u001b[39mfor\u001b[39;00m query \u001b[39min\u001b[39;00m q:\n\u001b[1;32m----> 2\u001b[0m     FlatL2_old\u001b[39m.\u001b[39;49mquery(query, k \u001b[39m=\u001b[39;49m \u001b[39m5\u001b[39;49m)\n\u001b[0;32m      3\u001b[0m     pq\u001b[39m.\u001b[39mquery(query, k \u001b[39m=\u001b[39m \u001b[39m10\u001b[39m)\n\u001b[0;32m      4\u001b[0m     IVFFlat\u001b[39m.\u001b[39mquery(query, k \u001b[39m=\u001b[39m \u001b[39m10\u001b[39m)\n",
      "\u001b[1;31mTypeError\u001b[0m: FaissIndex.query() got an unexpected keyword argument 'k'"
     ]
    }
   ],
   "source": [
    "for query in q:\n",
    "    FlatL2_old.query(query, k = 5)\n",
    "    pq.query(query, k = 10)\n",
    "    IVFFlat.query(query, k = 10)\n",
    "    FlatL2.query(query, k = 10)\n",
    "    "
   ]
  }
 ],
 "metadata": {
  "kernelspec": {
   "display_name": ".venv",
   "language": "python",
   "name": "python3"
  },
  "language_info": {
   "codemirror_mode": {
    "name": "ipython",
    "version": 3
   },
   "file_extension": ".py",
   "mimetype": "text/x-python",
   "name": "python",
   "nbconvert_exporter": "python",
   "pygments_lexer": "ipython3",
   "version": "3.10.4"
  },
  "orig_nbformat": 4
 },
 "nbformat": 4,
 "nbformat_minor": 2
}
