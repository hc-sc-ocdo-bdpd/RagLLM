{
 "cells": [
  {
   "cell_type": "code",
   "execution_count": null,
   "metadata": {},
   "outputs": [],
   "source": [
    "from index_PQ import IndexPQ\n",
    "from index_IVFFlat import IndexIVFFlat\n",
    "from index_FlatL2 import IndexFlatL2"
   ]
  },
  {
   "cell_type": "code",
   "execution_count": null,
   "metadata": {},
   "outputs": [],
   "source": [
    "PQ = IndexPQ(\"C:/Users/KPRAZUCH/OneDrive - HC-SC PHAC-ASPC/Documents/10k_sample/subset_0\",\n",
    "             \"test_PQ\",\n",
    "             True)\n",
    "PQ.create()"
   ]
  },
  {
   "cell_type": "code",
   "execution_count": null,
   "metadata": {},
   "outputs": [],
   "source": [
    "PQ.query(\"what is the time to make an index\")"
   ]
  },
  {
   "cell_type": "code",
   "execution_count": null,
   "metadata": {},
   "outputs": [],
   "source": [
    "IVFFlat = IndexIVFFlat(\"C:/Users/KPRAZUCH/OneDrive - HC-SC PHAC-ASPC/Documents/10k_sample/subset_0\",\n",
    "             \"test_IVFFlat\")\n",
    "IVFFlat.create()"
   ]
  },
  {
   "cell_type": "code",
   "execution_count": null,
   "metadata": {},
   "outputs": [],
   "source": [
    "IVFFlat.query(\"what is the time to make an index\")"
   ]
  },
  {
   "cell_type": "code",
   "execution_count": null,
   "metadata": {},
   "outputs": [],
   "source": [
    "FlatL2 = IndexFlatL2(\"C:/Users/KPRAZUCH/OneDrive - HC-SC PHAC-ASPC/Documents/10k_sample/subset_0\",\n",
    "             \"test_FlatL2\")\n",
    "FlatL2.create()"
   ]
  },
  {
   "cell_type": "code",
   "execution_count": null,
   "metadata": {},
   "outputs": [],
   "source": [
    "FlatL2.query(\"what is the time to make an index\")"
   ]
  }
 ],
 "metadata": {
  "kernelspec": {
   "display_name": ".venv",
   "language": "python",
   "name": "python3"
  },
  "language_info": {
   "codemirror_mode": {
    "name": "ipython",
    "version": 3
   },
   "file_extension": ".py",
   "mimetype": "text/x-python",
   "name": "python",
   "nbconvert_exporter": "python",
   "pygments_lexer": "ipython3",
   "version": "3.10.4"
  },
  "orig_nbformat": 4
 },
 "nbformat": 4,
 "nbformat_minor": 2
}
